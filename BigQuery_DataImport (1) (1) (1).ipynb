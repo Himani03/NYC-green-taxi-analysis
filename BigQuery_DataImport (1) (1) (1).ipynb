{
 "cells": [
  {
   "cell_type": "code",
   "execution_count": 9,
   "id": "77e70a64-45f1-4a8a-b953-e362426fa1d6",
   "metadata": {},
   "outputs": [
    {
     "data": {
      "text/html": [
       "<div>\n",
       "<style scoped>\n",
       "    .dataframe tbody tr th:only-of-type {\n",
       "        vertical-align: middle;\n",
       "    }\n",
       "\n",
       "    .dataframe tbody tr th {\n",
       "        vertical-align: top;\n",
       "    }\n",
       "\n",
       "    .dataframe thead th {\n",
       "        text-align: right;\n",
       "    }\n",
       "</style>\n",
       "<table border=\"1\" class=\"dataframe\">\n",
       "  <thead>\n",
       "    <tr style=\"text-align: right;\">\n",
       "      <th></th>\n",
       "      <th>trip_type</th>\n",
       "      <th>trip_description</th>\n",
       "    </tr>\n",
       "  </thead>\n",
       "  <tbody>\n",
       "    <tr>\n",
       "      <th>0</th>\n",
       "      <td>1</td>\n",
       "      <td>Street-hail</td>\n",
       "    </tr>\n",
       "    <tr>\n",
       "      <th>1</th>\n",
       "      <td>2</td>\n",
       "      <td>Dispatch</td>\n",
       "    </tr>\n",
       "  </tbody>\n",
       "</table>\n",
       "</div>"
      ],
      "text/plain": [
       "   trip_type trip_description\n",
       "0          1      Street-hail\n",
       "1          2         Dispatch"
      ]
     },
     "execution_count": 9,
     "metadata": {},
     "output_type": "execute_result"
    }
   ],
   "source": [
    "import pandas as pd\n",
    "\n",
    "triptype = pd.read_csv(r\"C:\\Users\\sushm\\OneDrive\\Documents\\SJSU_DA\\Database 225\\project\\Project datasets\\trip_type.csv\")\n",
    "\n",
    "triptype"
   ]
  },
  {
   "cell_type": "code",
   "execution_count": 11,
   "id": "88412ed0-b4bd-4bb8-a00d-7a5eeebdf196",
   "metadata": {},
   "outputs": [],
   "source": [
    "import os\n",
    "\n",
    "os.environ[\"GOOGLE_APPLICATION_CREDENTIALS\"] = r\"C:\\Users\\sushm\\Downloads\\ivory-being-421502-b00f7c754b10.json\"\n"
   ]
  },
  {
   "cell_type": "code",
   "execution_count": 12,
   "id": "b1b1350a-2b78-4192-a632-38182fb3f887",
   "metadata": {},
   "outputs": [
    {
     "name": "stdout",
     "output_type": "stream",
     "text": [
      "Loaded 2 rows into Dataset:trip_type\n"
     ]
    }
   ],
   "source": [
    "from google.cloud import bigquery\n",
    "client = bigquery.Client()\n",
    "\n",
    "dataset_id = \"Dataset\"\n",
    "table_id = \"trip_type\"\n",
    "\n",
    "table_ref = client.dataset(dataset_id).table(table_id)\n",
    "\n",
    "job_config = bigquery.LoadJobConfig()\n",
    "job_config.autodetect = True\n",
    "job_config.source_format = bigquery.SourceFormat.CSV\n",
    "job = client.load_table_from_dataframe(triptype, table_ref, job_config=job_config)\n",
    "job.result()\n",
    "\n",
    "\n",
    "print(f\"Loaded {job.output_rows} rows into {dataset_id}:{table_id}\")"
   ]
  },
  {
   "cell_type": "code",
   "execution_count": 14,
   "id": "5c1e5da6-167f-4ae1-a0f0-98c6a45bf993",
   "metadata": {},
   "outputs": [],
   "source": [
    "taxi_trips = pd.read_csv(r\"C:\\Users\\sushm\\OneDrive\\Documents\\SJSU_DA\\Database 225\\project\\Project datasets\\taxi_trips.csv\")\n",
    "\n",
    "payment = pd.read_csv(r\"C:\\Users\\sushm\\OneDrive\\Documents\\SJSU_DA\\Database 225\\project\\Project datasets\\payment.csv\")\n",
    "\n",
    "ratecode = pd.read_csv(r\"C:\\Users\\sushm\\OneDrive\\Documents\\SJSU_DA\\Database 225\\project\\Project datasets\\ratecode.csv\")\n",
    "\n",
    "taxi_zone_lookup = pd.read_csv(r\"C:\\Users\\sushm\\OneDrive\\Documents\\SJSU_DA\\Database 225\\project\\Project datasets\\taxi_zone_lookup.csv\")\n"
   ]
  },
  {
   "cell_type": "code",
   "execution_count": 15,
   "id": "04db15dc-aaa6-48f9-81e7-b6dafef0d4c0",
   "metadata": {},
   "outputs": [
    {
     "name": "stdout",
     "output_type": "stream",
     "text": [
      "Loaded 840402 rows into Dataset:taxi_trips\n"
     ]
    }
   ],
   "source": [
    "table_id = \"taxi_trips\"\n",
    "\n",
    "table_ref = client.dataset(dataset_id).table(table_id)\n",
    "\n",
    "job_config = bigquery.LoadJobConfig()\n",
    "job_config.autodetect = True\n",
    "job_config.source_format = bigquery.SourceFormat.CSV\n",
    "job = client.load_table_from_dataframe(taxi_trips, table_ref, job_config=job_config)\n",
    "job.result()\n",
    "\n",
    "\n",
    "print(f\"Loaded {job.output_rows} rows into {dataset_id}:{table_id}\")"
   ]
  },
  {
   "cell_type": "code",
   "execution_count": 16,
   "id": "12ce0104-3e3b-4ff4-9dd8-ca0130a83f3d",
   "metadata": {},
   "outputs": [
    {
     "name": "stdout",
     "output_type": "stream",
     "text": [
      "Loaded 2 rows into Dataset:vendor\n"
     ]
    }
   ],
   "source": [
    "vendor = pd.read_csv(r\"C:\\Users\\sushm\\OneDrive\\Documents\\SJSU_DA\\Database 225\\project\\Project datasets\\vendor.csv\")\n",
    "\n",
    "table_id = \"vendor\"\n",
    "\n",
    "table_ref = client.dataset(dataset_id).table(table_id)\n",
    "\n",
    "job_config = bigquery.LoadJobConfig()\n",
    "job_config.autodetect = True\n",
    "job_config.source_format = bigquery.SourceFormat.CSV\n",
    "job = client.load_table_from_dataframe(vendor, table_ref, job_config=job_config)\n",
    "job.result()\n",
    "\n",
    "\n",
    "print(f\"Loaded {job.output_rows} rows into {dataset_id}:{table_id}\")\n"
   ]
  },
  {
   "cell_type": "code",
   "execution_count": 17,
   "id": "c5ac7efa-9079-458d-a488-f67b8cb2a037",
   "metadata": {},
   "outputs": [
    {
     "name": "stdout",
     "output_type": "stream",
     "text": [
      "Loaded 7 rows into Dataset:payment\n"
     ]
    }
   ],
   "source": [
    "table_id = \"payment\"\n",
    "\n",
    "table_ref = client.dataset(dataset_id).table(table_id)\n",
    "\n",
    "job_config = bigquery.LoadJobConfig()\n",
    "job_config.autodetect = True\n",
    "job_config.source_format = bigquery.SourceFormat.CSV\n",
    "job = client.load_table_from_dataframe(payment, table_ref, job_config=job_config)\n",
    "job.result()\n",
    "\n",
    "\n",
    "print(f\"Loaded {job.output_rows} rows into {dataset_id}:{table_id}\")\n"
   ]
  },
  {
   "cell_type": "code",
   "execution_count": 18,
   "id": "e6ab433c-09b2-44c9-8c61-6f8d1f64d486",
   "metadata": {},
   "outputs": [
    {
     "name": "stdout",
     "output_type": "stream",
     "text": [
      "Loaded 7 rows into Dataset:ratecode\n"
     ]
    }
   ],
   "source": [
    "table_id = \"ratecode\"\n",
    "\n",
    "table_ref = client.dataset(dataset_id).table(table_id)\n",
    "\n",
    "job_config = bigquery.LoadJobConfig()\n",
    "job_config.autodetect = True\n",
    "job_config.source_format = bigquery.SourceFormat.CSV\n",
    "job = client.load_table_from_dataframe(ratecode, table_ref, job_config=job_config)\n",
    "job.result()\n",
    "\n",
    "\n",
    "print(f\"Loaded {job.output_rows} rows into {dataset_id}:{table_id}\")"
   ]
  },
  {
   "cell_type": "code",
   "execution_count": 19,
   "id": "3c8ba49e-1126-42bf-8aed-b46c52e5beb9",
   "metadata": {},
   "outputs": [
    {
     "name": "stdout",
     "output_type": "stream",
     "text": [
      "Loaded 265 rows into Dataset:taxi_zone_lookup\n"
     ]
    }
   ],
   "source": [
    "table_id = \"taxi_zone_lookup\"\n",
    "\n",
    "table_ref = client.dataset(dataset_id).table(table_id)\n",
    "\n",
    "job_config = bigquery.LoadJobConfig()\n",
    "job_config.autodetect = True\n",
    "job_config.source_format = bigquery.SourceFormat.CSV\n",
    "job = client.load_table_from_dataframe(taxi_zone_lookup, table_ref, job_config=job_config)\n",
    "job.result()\n",
    "\n",
    "\n",
    "print(f\"Loaded {job.output_rows} rows into {dataset_id}:{table_id}\")"
   ]
  },
  {
   "cell_type": "code",
   "execution_count": null,
   "id": "17012461-861b-4f63-95b1-8735fb64f7d0",
   "metadata": {},
   "outputs": [],
   "source": []
  }
 ],
 "metadata": {
  "kernelspec": {
   "display_name": "Python 3 (ipykernel)",
   "language": "python",
   "name": "python3"
  },
  "language_info": {
   "codemirror_mode": {
    "name": "ipython",
    "version": 3
   },
   "file_extension": ".py",
   "mimetype": "text/x-python",
   "name": "python",
   "nbconvert_exporter": "python",
   "pygments_lexer": "ipython3",
   "version": "3.12.2"
  }
 },
 "nbformat": 4,
 "nbformat_minor": 5
}
